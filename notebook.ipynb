{
 "cells": [
  {
   "cell_type": "code",
   "execution_count": 1,
   "metadata": {},
   "outputs": [],
   "source": [
    "import numpy as np\n",
    "import pandas as pd\n",
    "\n",
    "from functions import preprocess, train_default_catboost"
   ]
  },
  {
   "cell_type": "code",
   "execution_count": 2,
   "metadata": {},
   "outputs": [],
   "source": [
    "df_train, df_test = preprocess('./data/train.csv'), preprocess('./data/test.csv')"
   ]
  },
  {
   "cell_type": "code",
   "execution_count": 3,
   "metadata": {},
   "outputs": [
    {
     "data": {
      "text/html": [
       "<div>\n",
       "<style scoped>\n",
       "    .dataframe tbody tr th:only-of-type {\n",
       "        vertical-align: middle;\n",
       "    }\n",
       "\n",
       "    .dataframe tbody tr th {\n",
       "        vertical-align: top;\n",
       "    }\n",
       "\n",
       "    .dataframe thead th {\n",
       "        text-align: right;\n",
       "    }\n",
       "</style>\n",
       "<table border=\"1\" class=\"dataframe\">\n",
       "  <thead>\n",
       "    <tr style=\"text-align: right;\">\n",
       "      <th></th>\n",
       "      <th>Код_группы</th>\n",
       "      <th>Год_Поступления</th>\n",
       "      <th>Основания</th>\n",
       "      <th>Общежитие</th>\n",
       "      <th>Наличие_Матери</th>\n",
       "      <th>Наличие_Отца</th>\n",
       "      <th>КодФакультета</th>\n",
       "      <th>СрБаллАттестата</th>\n",
       "      <th>Статус</th>\n",
       "      <th>Код1</th>\n",
       "      <th>Код2</th>\n",
       "      <th>Код3</th>\n",
       "      <th>Муж</th>\n",
       "      <th>Изучал_Англ</th>\n",
       "      <th>Год_Рождения</th>\n",
       "      <th>Возраст_Поступления</th>\n",
       "      <th>Перерыв</th>\n",
       "      <th>Учеба</th>\n",
       "    </tr>\n",
       "    <tr>\n",
       "      <th>ID</th>\n",
       "      <th></th>\n",
       "      <th></th>\n",
       "      <th></th>\n",
       "      <th></th>\n",
       "      <th></th>\n",
       "      <th></th>\n",
       "      <th></th>\n",
       "      <th></th>\n",
       "      <th></th>\n",
       "      <th></th>\n",
       "      <th></th>\n",
       "      <th></th>\n",
       "      <th></th>\n",
       "      <th></th>\n",
       "      <th></th>\n",
       "      <th></th>\n",
       "      <th></th>\n",
       "      <th></th>\n",
       "    </tr>\n",
       "  </thead>\n",
       "  <tbody>\n",
       "    <tr>\n",
       "      <th>72716</th>\n",
       "      <td>16019</td>\n",
       "      <td>2015</td>\n",
       "      <td>оо</td>\n",
       "      <td>0</td>\n",
       "      <td>0</td>\n",
       "      <td>0</td>\n",
       "      <td>41</td>\n",
       "      <td>85.88</td>\n",
       "      <td>3</td>\n",
       "      <td>16</td>\n",
       "      <td>01</td>\n",
       "      <td>019</td>\n",
       "      <td>0</td>\n",
       "      <td>1</td>\n",
       "      <td>1998</td>\n",
       "      <td>17</td>\n",
       "      <td>1</td>\n",
       "      <td>ш</td>\n",
       "    </tr>\n",
       "    <tr>\n",
       "      <th>63306</th>\n",
       "      <td>14895</td>\n",
       "      <td>2010</td>\n",
       "      <td>цн</td>\n",
       "      <td>0</td>\n",
       "      <td>1</td>\n",
       "      <td>1</td>\n",
       "      <td>28</td>\n",
       "      <td>67.00</td>\n",
       "      <td>4</td>\n",
       "      <td>14</td>\n",
       "      <td>89</td>\n",
       "      <td>895</td>\n",
       "      <td>1</td>\n",
       "      <td>0</td>\n",
       "      <td>1992</td>\n",
       "      <td>18</td>\n",
       "      <td>0</td>\n",
       "      <td>н</td>\n",
       "    </tr>\n",
       "    <tr>\n",
       "      <th>82469</th>\n",
       "      <td>20103</td>\n",
       "      <td>2017</td>\n",
       "      <td>дн</td>\n",
       "      <td>0</td>\n",
       "      <td>1</td>\n",
       "      <td>1</td>\n",
       "      <td>41</td>\n",
       "      <td>82.66</td>\n",
       "      <td>4</td>\n",
       "      <td>20</td>\n",
       "      <td>10</td>\n",
       "      <td>103</td>\n",
       "      <td>0</td>\n",
       "      <td>1</td>\n",
       "      <td>1999</td>\n",
       "      <td>18</td>\n",
       "      <td>0</td>\n",
       "      <td>ш</td>\n",
       "    </tr>\n",
       "    <tr>\n",
       "      <th>81661</th>\n",
       "      <td>19838</td>\n",
       "      <td>2017</td>\n",
       "      <td>бн</td>\n",
       "      <td>0</td>\n",
       "      <td>1</td>\n",
       "      <td>1</td>\n",
       "      <td>35</td>\n",
       "      <td>74.00</td>\n",
       "      <td>4</td>\n",
       "      <td>19</td>\n",
       "      <td>83</td>\n",
       "      <td>838</td>\n",
       "      <td>0</td>\n",
       "      <td>1</td>\n",
       "      <td>1994</td>\n",
       "      <td>23</td>\n",
       "      <td>0</td>\n",
       "      <td>у</td>\n",
       "    </tr>\n",
       "    <tr>\n",
       "      <th>81509</th>\n",
       "      <td>19803</td>\n",
       "      <td>2017</td>\n",
       "      <td>бн</td>\n",
       "      <td>0</td>\n",
       "      <td>1</td>\n",
       "      <td>1</td>\n",
       "      <td>28</td>\n",
       "      <td>53.00</td>\n",
       "      <td>4</td>\n",
       "      <td>19</td>\n",
       "      <td>80</td>\n",
       "      <td>803</td>\n",
       "      <td>0</td>\n",
       "      <td>1</td>\n",
       "      <td>1995</td>\n",
       "      <td>22</td>\n",
       "      <td>0</td>\n",
       "      <td>у</td>\n",
       "    </tr>\n",
       "  </tbody>\n",
       "</table>\n",
       "</div>"
      ],
      "text/plain": [
       "      Код_группы  Год_Поступления Основания  Общежитие  Наличие_Матери  \\\n",
       "ID                                                                       \n",
       "72716      16019             2015        оо          0               0   \n",
       "63306      14895             2010        цн          0               1   \n",
       "82469      20103             2017        дн          0               1   \n",
       "81661      19838             2017        бн          0               1   \n",
       "81509      19803             2017        бн          0               1   \n",
       "\n",
       "       Наличие_Отца КодФакультета  СрБаллАттестата  Статус Код1 Код2 Код3  \\\n",
       "ID                                                                          \n",
       "72716             0            41            85.88       3   16   01  019   \n",
       "63306             1            28            67.00       4   14   89  895   \n",
       "82469             1            41            82.66       4   20   10  103   \n",
       "81661             1            35            74.00       4   19   83  838   \n",
       "81509             1            28            53.00       4   19   80  803   \n",
       "\n",
       "       Муж  Изучал_Англ  Год_Рождения  Возраст_Поступления  Перерыв Учеба  \n",
       "ID                                                                         \n",
       "72716    0            1          1998                   17        1     ш  \n",
       "63306    1            0          1992                   18        0     н  \n",
       "82469    0            1          1999                   18        0     ш  \n",
       "81661    0            1          1994                   23        0     у  \n",
       "81509    0            1          1995                   22        0     у  "
      ]
     },
     "execution_count": 3,
     "metadata": {},
     "output_type": "execute_result"
    }
   ],
   "source": [
    "df_train.head()"
   ]
  },
  {
   "cell_type": "code",
   "execution_count": 4,
   "metadata": {},
   "outputs": [
    {
     "data": {
      "text/plain": [
       "Код_группы             category\n",
       "Год_Поступления           int64\n",
       "Основания              category\n",
       "Общежитие                 int32\n",
       "Наличие_Матери            int32\n",
       "Наличие_Отца              int32\n",
       "КодФакультета          category\n",
       "СрБаллАттестата         float64\n",
       "Статус                    int64\n",
       "Код1                   category\n",
       "Код2                   category\n",
       "Код3                   category\n",
       "Муж                       int32\n",
       "Изучал_Англ               int32\n",
       "Год_Рождения              int64\n",
       "Возраст_Поступления       int64\n",
       "Перерыв                   int32\n",
       "Учеба                  category\n",
       "dtype: object"
      ]
     },
     "execution_count": 4,
     "metadata": {},
     "output_type": "execute_result"
    }
   ],
   "source": [
    "df_train.dtypes"
   ]
  },
  {
   "cell_type": "code",
   "execution_count": 5,
   "metadata": {},
   "outputs": [],
   "source": [
    "X, y = df_train.drop(['Статус'], axis=1, errors='ignore'), df_train['Статус'].replace({-1: 0, 3: 1, 4: 2})\n",
    "X_test = df_test.drop(['Статус'], axis=1, errors='ignore')"
   ]
  },
  {
   "cell_type": "code",
   "execution_count": 6,
   "metadata": {},
   "outputs": [
    {
     "name": "stderr",
     "output_type": "stream",
     "text": [
      "s:\\miniconda3\\lib\\site-packages\\scipy\\__init__.py:146: UserWarning: A NumPy version >=1.16.5 and <1.23.0 is required for this version of SciPy (detected version 1.23.1\n",
      "  warnings.warn(f\"A NumPy version >={np_minversion} and <{np_maxversion}\"\n"
     ]
    },
    {
     "name": "stdout",
     "output_type": "stream",
     "text": [
      "Train len: 10867, val len: 2717, test len: 6691\n",
      "F1 train: 0.8759500963665086 F1 test: 0.7677169132289018\n",
      "{'Код_группы': 16.273765947810446, 'Год_Поступления': 4.76123296719679, 'Основания': 9.347906706944299, 'Общежитие': 0.5240197193012693, 'Наличие_Матери': 0.615696522185437, 'Наличие_Отца': 0.22510671086574047, 'КодФакультета': 9.445701920401905, 'СрБаллАттестата': 6.235497769671729, 'Код1': 17.098952291719442, 'Код2': 14.028779921687871, 'Код3': 6.2962845002039085, 'Муж': 1.3043981246120158, 'Изучал_Англ': 0.5710056801883785, 'Год_Рождения': 3.0612050798032375, 'Возраст_Поступления': 2.6585952642529507, 'Перерыв': 1.7361191079559462, 'Учеба': 5.815731765198757}\n"
     ]
    }
   ],
   "source": [
    "clf = train_default_catboost(X, y, X_test, 'results/catboost_default.csv')"
   ]
  }
 ],
 "metadata": {
  "kernelspec": {
   "display_name": "Python 3.9.12 ('base')",
   "language": "python",
   "name": "python3"
  },
  "language_info": {
   "codemirror_mode": {
    "name": "ipython",
    "version": 3
   },
   "file_extension": ".py",
   "mimetype": "text/x-python",
   "name": "python",
   "nbconvert_exporter": "python",
   "pygments_lexer": "ipython3",
   "version": "3.9.13"
  },
  "orig_nbformat": 4,
  "vscode": {
   "interpreter": {
    "hash": "b49028c007f0c7020170368ae8b8c9fa8f0535073a648df8bc1dae28c220931a"
   }
  }
 },
 "nbformat": 4,
 "nbformat_minor": 2
}

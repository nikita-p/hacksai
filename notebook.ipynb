{
 "cells": [
  {
   "cell_type": "code",
   "execution_count": 1,
   "metadata": {},
   "outputs": [],
   "source": [
    "%load_ext autoreload\n",
    "%autoreload 2"
   ]
  },
  {
   "cell_type": "code",
   "execution_count": 2,
   "metadata": {},
   "outputs": [],
   "source": [
    "import matplotlib.pyplot as plt\n",
    "import numpy as np\n",
    "import pandas as pd\n",
    "\n",
    "from functions import (\n",
    "    preprocess, train_default_catboost,\n",
    "    cross_validation, plot_cv_learning_curve,\n",
    "    gridsearch\n",
    ")"
   ]
  },
  {
   "cell_type": "code",
   "execution_count": 3,
   "metadata": {},
   "outputs": [],
   "source": [
    "df_train, df_test = preprocess('./data/train.csv'), preprocess('./data/test.csv')"
   ]
  },
  {
   "cell_type": "code",
   "execution_count": 4,
   "metadata": {},
   "outputs": [
    {
     "data": {
      "text/html": [
       "<div>\n",
       "<style scoped>\n",
       "    .dataframe tbody tr th:only-of-type {\n",
       "        vertical-align: middle;\n",
       "    }\n",
       "\n",
       "    .dataframe tbody tr th {\n",
       "        vertical-align: top;\n",
       "    }\n",
       "\n",
       "    .dataframe thead th {\n",
       "        text-align: right;\n",
       "    }\n",
       "</style>\n",
       "<table border=\"1\" class=\"dataframe\">\n",
       "  <thead>\n",
       "    <tr style=\"text-align: right;\">\n",
       "      <th></th>\n",
       "      <th>Код_группы</th>\n",
       "      <th>Год_Поступления</th>\n",
       "      <th>Основания</th>\n",
       "      <th>КодФакультета</th>\n",
       "      <th>СрБаллАттестата</th>\n",
       "      <th>Статус</th>\n",
       "      <th>Код1</th>\n",
       "      <th>Код2</th>\n",
       "      <th>Код3</th>\n",
       "      <th>Муж</th>\n",
       "      <th>Год_Рождения</th>\n",
       "      <th>Возраст_Поступления</th>\n",
       "      <th>Перерыв</th>\n",
       "      <th>ПолнаяСемья</th>\n",
       "      <th>Учеба</th>\n",
       "      <th>МестоЖит</th>\n",
       "    </tr>\n",
       "    <tr>\n",
       "      <th>ID</th>\n",
       "      <th></th>\n",
       "      <th></th>\n",
       "      <th></th>\n",
       "      <th></th>\n",
       "      <th></th>\n",
       "      <th></th>\n",
       "      <th></th>\n",
       "      <th></th>\n",
       "      <th></th>\n",
       "      <th></th>\n",
       "      <th></th>\n",
       "      <th></th>\n",
       "      <th></th>\n",
       "      <th></th>\n",
       "      <th></th>\n",
       "      <th></th>\n",
       "    </tr>\n",
       "  </thead>\n",
       "  <tbody>\n",
       "    <tr>\n",
       "      <th>72716</th>\n",
       "      <td>16019</td>\n",
       "      <td>2015</td>\n",
       "      <td>оо</td>\n",
       "      <td>41</td>\n",
       "      <td>85.88</td>\n",
       "      <td>3</td>\n",
       "      <td>16</td>\n",
       "      <td>01</td>\n",
       "      <td>019</td>\n",
       "      <td>0</td>\n",
       "      <td>1998</td>\n",
       "      <td>17</td>\n",
       "      <td>1</td>\n",
       "      <td>False</td>\n",
       "      <td>ш</td>\n",
       "      <td>брн</td>\n",
       "    </tr>\n",
       "    <tr>\n",
       "      <th>63306</th>\n",
       "      <td>14895</td>\n",
       "      <td>2010</td>\n",
       "      <td>цн</td>\n",
       "      <td>28</td>\n",
       "      <td>67.00</td>\n",
       "      <td>4</td>\n",
       "      <td>14</td>\n",
       "      <td>89</td>\n",
       "      <td>895</td>\n",
       "      <td>1</td>\n",
       "      <td>1992</td>\n",
       "      <td>18</td>\n",
       "      <td>0</td>\n",
       "      <td>True</td>\n",
       "      <td>н</td>\n",
       "      <td>брн</td>\n",
       "    </tr>\n",
       "    <tr>\n",
       "      <th>82469</th>\n",
       "      <td>20103</td>\n",
       "      <td>2017</td>\n",
       "      <td>дн</td>\n",
       "      <td>41</td>\n",
       "      <td>82.66</td>\n",
       "      <td>4</td>\n",
       "      <td>20</td>\n",
       "      <td>10</td>\n",
       "      <td>103</td>\n",
       "      <td>0</td>\n",
       "      <td>1999</td>\n",
       "      <td>18</td>\n",
       "      <td>0</td>\n",
       "      <td>True</td>\n",
       "      <td>ш</td>\n",
       "      <td>алт</td>\n",
       "    </tr>\n",
       "    <tr>\n",
       "      <th>81661</th>\n",
       "      <td>19838</td>\n",
       "      <td>2017</td>\n",
       "      <td>бн</td>\n",
       "      <td>35</td>\n",
       "      <td>74.00</td>\n",
       "      <td>4</td>\n",
       "      <td>19</td>\n",
       "      <td>83</td>\n",
       "      <td>838</td>\n",
       "      <td>0</td>\n",
       "      <td>1994</td>\n",
       "      <td>23</td>\n",
       "      <td>0</td>\n",
       "      <td>True</td>\n",
       "      <td>у</td>\n",
       "      <td>брн</td>\n",
       "    </tr>\n",
       "    <tr>\n",
       "      <th>81509</th>\n",
       "      <td>19803</td>\n",
       "      <td>2017</td>\n",
       "      <td>бн</td>\n",
       "      <td>28</td>\n",
       "      <td>53.00</td>\n",
       "      <td>4</td>\n",
       "      <td>19</td>\n",
       "      <td>80</td>\n",
       "      <td>803</td>\n",
       "      <td>0</td>\n",
       "      <td>1995</td>\n",
       "      <td>22</td>\n",
       "      <td>0</td>\n",
       "      <td>True</td>\n",
       "      <td>у</td>\n",
       "      <td>брн</td>\n",
       "    </tr>\n",
       "  </tbody>\n",
       "</table>\n",
       "</div>"
      ],
      "text/plain": [
       "      Код_группы  Год_Поступления Основания КодФакультета  СрБаллАттестата  \\\n",
       "ID                                                                           \n",
       "72716      16019             2015        оо            41            85.88   \n",
       "63306      14895             2010        цн            28            67.00   \n",
       "82469      20103             2017        дн            41            82.66   \n",
       "81661      19838             2017        бн            35            74.00   \n",
       "81509      19803             2017        бн            28            53.00   \n",
       "\n",
       "       Статус Код1 Код2 Код3  Муж  Год_Рождения  Возраст_Поступления  Перерыв  \\\n",
       "ID                                                                              \n",
       "72716       3   16   01  019    0          1998                   17        1   \n",
       "63306       4   14   89  895    1          1992                   18        0   \n",
       "82469       4   20   10  103    0          1999                   18        0   \n",
       "81661       4   19   83  838    0          1994                   23        0   \n",
       "81509       4   19   80  803    0          1995                   22        0   \n",
       "\n",
       "       ПолнаяСемья Учеба МестоЖит  \n",
       "ID                                 \n",
       "72716        False     ш      брн  \n",
       "63306         True     н      брн  \n",
       "82469         True     ш      алт  \n",
       "81661         True     у      брн  \n",
       "81509         True     у      брн  "
      ]
     },
     "execution_count": 4,
     "metadata": {},
     "output_type": "execute_result"
    }
   ],
   "source": [
    "df_train.head()"
   ]
  },
  {
   "cell_type": "code",
   "execution_count": 5,
   "metadata": {},
   "outputs": [
    {
     "data": {
      "text/plain": [
       "Код_группы             category\n",
       "Год_Поступления           int64\n",
       "Основания              category\n",
       "КодФакультета          category\n",
       "СрБаллАттестата         float64\n",
       "Статус                    int64\n",
       "Код1                   category\n",
       "Код2                   category\n",
       "Код3                   category\n",
       "Муж                       int64\n",
       "Год_Рождения              int64\n",
       "Возраст_Поступления       int64\n",
       "Перерыв                   int64\n",
       "ПолнаяСемья                bool\n",
       "Учеба                  category\n",
       "МестоЖит               category\n",
       "dtype: object"
      ]
     },
     "execution_count": 5,
     "metadata": {},
     "output_type": "execute_result"
    }
   ],
   "source": [
    "df_train.dtypes"
   ]
  },
  {
   "cell_type": "code",
   "execution_count": 6,
   "metadata": {},
   "outputs": [],
   "source": [
    "X, y = df_train.drop(['Статус'], axis=1, errors='ignore'), df_train['Статус'].replace({-1: 0, 3: 1, 4: 2})\n",
    "X_test = df_test.drop(['Статус'], axis=1, errors='ignore')\n",
    "\n",
    "# X.drop(['Код_группы'], axis=1, inplace=True)"
   ]
  },
  {
   "cell_type": "code",
   "execution_count": 7,
   "metadata": {},
   "outputs": [],
   "source": [
    "params = {\n",
    "    'iterations': [1000],\n",
    "    'loss_function': ['MultiClass'],\n",
    "    'eval_metric': ['TotalF1:average=Macro;use_weights=false'],\n",
    "    'learning_rate': [0.03],\n",
    "    # 'depth': [4, 5],\n",
    "    'class_weights': [[1.8,1,1]],\n",
    "}\n",
    "# gridsearch(X, y, params)"
   ]
  },
  {
   "cell_type": "code",
   "execution_count": 8,
   "metadata": {},
   "outputs": [
    {
     "name": "stdout",
     "output_type": "stream",
     "text": [
      "Training on fold [0/3]\n",
      "\n",
      "bestTest = 0.8007209059\n",
      "bestIteration = 980\n",
      "\n",
      "Training on fold [1/3]\n",
      "\n",
      "bestTest = 0.8091046551\n",
      "bestIteration = 840\n",
      "\n",
      "Training on fold [2/3]\n",
      "\n",
      "bestTest = 0.7993653911\n",
      "bestIteration = 996\n",
      "\n"
     ]
    }
   ],
   "source": [
    "fold_count = 3\n",
    "params = {\n",
    "    'iterations': 1000,\n",
    "    'loss_function': 'MultiClass',\n",
    "    'eval_metric': 'TotalF1:average=Macro;use_weights=False',\n",
    "    # 'custom_metric': 'F1',\n",
    "    'learning_rate': 0.03,\n",
    "    'class_weights': [1.8,1,1],\n",
    "}\n",
    "cv_data = cross_validation(X, y, params, fold_count=fold_count)"
   ]
  },
  {
   "cell_type": "code",
   "execution_count": 9,
   "metadata": {},
   "outputs": [
    {
     "data": {
      "image/png": "[encoded data removed]",
      "text/plain": [
       "<Figure size 720x480 with 1 Axes>"
      ]
     },
     "metadata": {
      "needs_background": "light"
     },
     "output_type": "display_data"
    }
   ],
   "source": [
    "title = 'v4 catboost (class weighted 1.8, 3 folds)'\n",
    "plot_cv_learning_curve(cv_data, 'TotalF1:average=Macro;use_weights=false', fold_count, title)\n",
    "# plt.savefig(f'./results/images/{\"_\".join(title.split())}.png')"
   ]
  },
  {
   "cell_type": "code",
   "execution_count": null,
   "metadata": {},
   "outputs": [
    {
     "name": "stdout",
     "output_type": "stream",
     "text": [
      "Train len: 10867, val len: 2717, test len: 6691\n",
      "{'nan_mode': 'Min', 'eval_metric': 'MultiClass', 'combinations_ctr': ['Borders:CtrBorderCount=15:CtrBorderType=Uniform:TargetBorderCount=2:TargetBorderType=MinEntropy:Prior=0/1:Prior=0.5/1:Prior=1/1', 'Counter:CtrBorderCount=15:CtrBorderType=Uniform:Prior=0/1'], 'iterations': 1000, 'sampling_frequency': 'PerTree', 'fold_permutation_block': 0, 'leaf_estimation_method': 'Newton', 'counter_calc_method': 'SkipTest', 'grow_policy': 'SymmetricTree', 'penalties_coefficient': 1, 'boosting_type': 'Plain', 'model_shrink_mode': 'Constant', 'feature_border_type': 'GreedyLogSum', 'ctr_leaf_count_limit': 18446744073709551615, 'bayesian_matrix_reg': 0.10000000149011612, 'one_hot_max_size': 2, 'force_unit_auto_pair_weights': False, 'l2_leaf_reg': 3, 'random_strength': 1, 'rsm': 1, 'boost_from_average': False, 'max_ctr_complexity': 4, 'model_size_reg': 0.5, 'simple_ctr': ['Borders:CtrBorderCount=15:CtrBorderType=Uniform:TargetBorderCount=2:TargetBorderType=MinEntropy:Prior=0/1:Prior=0.5/1:Prior=1/1', 'Counter:CtrBorderCount=15:CtrBorderType=Uniform:Prior=0/1'], 'pool_metainfo_options': {'tags': {}}, 'use_best_model': False, 'class_names': [0, 1, 2], 'random_seed': 0, 'depth': 6, 'ctr_target_border_count': 1, 'posterior_sampling': False, 'has_time': False, 'store_all_simple_ctr': False, 'border_count': 254, 'class_weights': [1.7999999523162842, 1, 1], 'bagging_temperature': 1, 'classes_count': 0, 'auto_class_weights': 'None', 'sparse_features_conflict_fraction': 0, 'leaf_estimation_backtracking': 'AnyImprovement', 'best_model_min_trees': 1, 'model_shrink_rate': 0, 'min_data_in_leaf': 1, 'loss_function': 'MultiClass', 'learning_rate': 0.029999999329447743, 'score_function': 'Cosine', 'task_type': 'CPU', 'leaf_estimation_iterations': 1, 'bootstrap_type': 'Bayesian', 'max_leaves': 64, 'permutation_count': 4}\n",
      "F1 train: 0.8638600348059594 F1 test: 0.8258061100415803\n",
      "F1 test classes: [0.64957265 0.87938596 0.94845972]\n",
      "{'Код_группы': 20.221772925748855, 'Год_Поступления': 6.024936346096749, 'Основания': 10.931300493666539, 'КодФакультета': 7.93736139516834, 'СрБаллАттестата': 5.273813227994093, 'Код1': 20.661142441421532, 'Код2': 9.174204106256196, 'Код3': 3.2215103742885445, 'Муж': 1.6723170669300125, 'Год_Рождения': 2.6915554815524834, 'Возраст_Поступления': 2.5094960535019917, 'Перерыв': 1.7008682722852417, 'ПолнаяСемья': 1.0101328809672372, 'Учеба': 4.471977902459444, 'МестоЖит': 2.497611031662859}\n"
     ]
    }
   ],
   "source": [
    "params = {\n",
    "    'iterations': 1000,\n",
    "    'loss_function': 'MultiClass',\n",
    "    'learning_rate': 0.03,\n",
    "    'class_weights': [1.8, 1, 1],\n",
    "}\n",
    "clf = train_default_catboost(X, y, X_test, params, savepath='results/catboost_default.csv')"
   ]
  },
  {
   "cell_type": "code",
   "execution_count": null,
   "metadata": {},
   "outputs": [],
   "source": []
  }
 ],
 "metadata": {
  "kernelspec": {
   "display_name": "Python 3",
   "language": "python",
   "name": "python3"
  },
  "language_info": {
   "codemirror_mode": {
    "name": "ipython",
    "version": 3
   },
   "file_extension": ".py",
   "mimetype": "text/x-python",
   "name": "python",
   "nbconvert_exporter": "python",
   "pygments_lexer": "ipython3",
   "version": "3.7.12"
  },
  "vscode": {
   "interpreter": {
    "hash": "b49028c007f0c7020170368ae8b8c9fa8f0535073a648df8bc1dae28c220931a"
   }
  }
 },
 "nbformat": 4,
 "nbformat_minor": 4
}

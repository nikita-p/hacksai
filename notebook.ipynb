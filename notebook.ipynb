{
 "cells": [
  {
   "cell_type": "code",
   "execution_count": 1,
   "metadata": {},
   "outputs": [],
   "source": [
    "%load_ext autoreload\n",
    "%autoreload 2"
   ]
  },
  {
   "cell_type": "code",
   "execution_count": 23,
   "metadata": {},
   "outputs": [],
   "source": [
    "import numpy as np\n",
    "import pandas as pd\n",
    "\n",
    "from functions import preprocess, train_default_catboost"
   ]
  },
  {
   "cell_type": "code",
   "execution_count": 63,
   "metadata": {},
   "outputs": [],
   "source": [
    "df_train, df_test = preprocess('./data/train.csv'), preprocess('./data/test.csv')"
   ]
  },
  {
   "cell_type": "code",
   "execution_count": 64,
   "metadata": {},
   "outputs": [
    {
     "data": {
      "text/html": [
       "<div>\n",
       "<style scoped>\n",
       "    .dataframe tbody tr th:only-of-type {\n",
       "        vertical-align: middle;\n",
       "    }\n",
       "\n",
       "    .dataframe tbody tr th {\n",
       "        vertical-align: top;\n",
       "    }\n",
       "\n",
       "    .dataframe thead th {\n",
       "        text-align: right;\n",
       "    }\n",
       "</style>\n",
       "<table border=\"1\" class=\"dataframe\">\n",
       "  <thead>\n",
       "    <tr style=\"text-align: right;\">\n",
       "      <th></th>\n",
       "      <th>Код_группы</th>\n",
       "      <th>Год_Поступления</th>\n",
       "      <th>Основания</th>\n",
       "      <th>КодФакультета</th>\n",
       "      <th>СрБаллАттестата</th>\n",
       "      <th>Статус</th>\n",
       "      <th>Код1</th>\n",
       "      <th>Код2</th>\n",
       "      <th>Код3</th>\n",
       "      <th>Муж</th>\n",
       "      <th>Год_Рождения</th>\n",
       "      <th>Возраст_Поступления</th>\n",
       "      <th>Перерыв</th>\n",
       "      <th>ПолнаяСемья</th>\n",
       "      <th>Учеба</th>\n",
       "      <th>МестоЖит</th>\n",
       "    </tr>\n",
       "    <tr>\n",
       "      <th>ID</th>\n",
       "      <th></th>\n",
       "      <th></th>\n",
       "      <th></th>\n",
       "      <th></th>\n",
       "      <th></th>\n",
       "      <th></th>\n",
       "      <th></th>\n",
       "      <th></th>\n",
       "      <th></th>\n",
       "      <th></th>\n",
       "      <th></th>\n",
       "      <th></th>\n",
       "      <th></th>\n",
       "      <th></th>\n",
       "      <th></th>\n",
       "      <th></th>\n",
       "    </tr>\n",
       "  </thead>\n",
       "  <tbody>\n",
       "    <tr>\n",
       "      <th>72716</th>\n",
       "      <td>16019</td>\n",
       "      <td>2015</td>\n",
       "      <td>оо</td>\n",
       "      <td>41</td>\n",
       "      <td>85.88</td>\n",
       "      <td>3</td>\n",
       "      <td>16</td>\n",
       "      <td>01</td>\n",
       "      <td>019</td>\n",
       "      <td>0</td>\n",
       "      <td>1998</td>\n",
       "      <td>17</td>\n",
       "      <td>1</td>\n",
       "      <td>False</td>\n",
       "      <td>ш</td>\n",
       "      <td>брн</td>\n",
       "    </tr>\n",
       "    <tr>\n",
       "      <th>63306</th>\n",
       "      <td>14895</td>\n",
       "      <td>2010</td>\n",
       "      <td>цн</td>\n",
       "      <td>28</td>\n",
       "      <td>67.00</td>\n",
       "      <td>4</td>\n",
       "      <td>14</td>\n",
       "      <td>89</td>\n",
       "      <td>895</td>\n",
       "      <td>1</td>\n",
       "      <td>1992</td>\n",
       "      <td>18</td>\n",
       "      <td>0</td>\n",
       "      <td>True</td>\n",
       "      <td>н</td>\n",
       "      <td>брн</td>\n",
       "    </tr>\n",
       "    <tr>\n",
       "      <th>82469</th>\n",
       "      <td>20103</td>\n",
       "      <td>2017</td>\n",
       "      <td>дн</td>\n",
       "      <td>41</td>\n",
       "      <td>82.66</td>\n",
       "      <td>4</td>\n",
       "      <td>20</td>\n",
       "      <td>10</td>\n",
       "      <td>103</td>\n",
       "      <td>0</td>\n",
       "      <td>1999</td>\n",
       "      <td>18</td>\n",
       "      <td>0</td>\n",
       "      <td>True</td>\n",
       "      <td>ш</td>\n",
       "      <td>алт</td>\n",
       "    </tr>\n",
       "    <tr>\n",
       "      <th>81661</th>\n",
       "      <td>19838</td>\n",
       "      <td>2017</td>\n",
       "      <td>бн</td>\n",
       "      <td>35</td>\n",
       "      <td>74.00</td>\n",
       "      <td>4</td>\n",
       "      <td>19</td>\n",
       "      <td>83</td>\n",
       "      <td>838</td>\n",
       "      <td>0</td>\n",
       "      <td>1994</td>\n",
       "      <td>23</td>\n",
       "      <td>0</td>\n",
       "      <td>True</td>\n",
       "      <td>у</td>\n",
       "      <td>брн</td>\n",
       "    </tr>\n",
       "    <tr>\n",
       "      <th>81509</th>\n",
       "      <td>19803</td>\n",
       "      <td>2017</td>\n",
       "      <td>бн</td>\n",
       "      <td>28</td>\n",
       "      <td>53.00</td>\n",
       "      <td>4</td>\n",
       "      <td>19</td>\n",
       "      <td>80</td>\n",
       "      <td>803</td>\n",
       "      <td>0</td>\n",
       "      <td>1995</td>\n",
       "      <td>22</td>\n",
       "      <td>0</td>\n",
       "      <td>True</td>\n",
       "      <td>у</td>\n",
       "      <td>брн</td>\n",
       "    </tr>\n",
       "  </tbody>\n",
       "</table>\n",
       "</div>"
      ],
      "text/plain": [
       "      Код_группы  Год_Поступления Основания КодФакультета  СрБаллАттестата  \\\n",
       "ID                                                                           \n",
       "72716      16019             2015        оо            41            85.88   \n",
       "63306      14895             2010        цн            28            67.00   \n",
       "82469      20103             2017        дн            41            82.66   \n",
       "81661      19838             2017        бн            35            74.00   \n",
       "81509      19803             2017        бн            28            53.00   \n",
       "\n",
       "       Статус Код1 Код2 Код3  Муж  Год_Рождения  Возраст_Поступления  Перерыв  \\\n",
       "ID                                                                              \n",
       "72716       3   16   01  019    0          1998                   17        1   \n",
       "63306       4   14   89  895    1          1992                   18        0   \n",
       "82469       4   20   10  103    0          1999                   18        0   \n",
       "81661       4   19   83  838    0          1994                   23        0   \n",
       "81509       4   19   80  803    0          1995                   22        0   \n",
       "\n",
       "       ПолнаяСемья Учеба МестоЖит  \n",
       "ID                                 \n",
       "72716        False     ш      брн  \n",
       "63306         True     н      брн  \n",
       "82469         True     ш      алт  \n",
       "81661         True     у      брн  \n",
       "81509         True     у      брн  "
      ]
     },
     "execution_count": 64,
     "metadata": {},
     "output_type": "execute_result"
    }
   ],
   "source": [
    "df_train.head()"
   ]
  },
  {
   "cell_type": "code",
   "execution_count": 65,
   "metadata": {},
   "outputs": [
    {
     "data": {
      "text/plain": [
       "Код_группы             category\n",
       "Год_Поступления           int64\n",
       "Основания              category\n",
       "КодФакультета          category\n",
       "СрБаллАттестата         float64\n",
       "Статус                    int64\n",
       "Код1                   category\n",
       "Код2                   category\n",
       "Код3                   category\n",
       "Муж                       int32\n",
       "Год_Рождения              int64\n",
       "Возраст_Поступления       int64\n",
       "Перерыв                   int32\n",
       "ПолнаяСемья                bool\n",
       "Учеба                  category\n",
       "МестоЖит               category\n",
       "dtype: object"
      ]
     },
     "execution_count": 65,
     "metadata": {},
     "output_type": "execute_result"
    }
   ],
   "source": [
    "df_train.dtypes"
   ]
  },
  {
   "cell_type": "code",
   "execution_count": 66,
   "metadata": {},
   "outputs": [],
   "source": [
    "X, y = df_train.drop(['Статус'], axis=1, errors='ignore'), df_train['Статус'].replace({-1: 0, 3: 1, 4: 2})\n",
    "X_test = df_test.drop(['Статус'], axis=1, errors='ignore')"
   ]
  },
  {
   "cell_type": "code",
   "execution_count": 67,
   "metadata": {},
   "outputs": [
    {
     "name": "stdout",
     "output_type": "stream",
     "text": [
      "Train len: 10867, val len: 2717, test len: 6691\n",
      "F1 train: 0.881687588455572 F1 test: 0.7817380711604728\n",
      "{'Код_группы': 16.86698033907099, 'Год_Поступления': 5.431756046754685, 'Основания': 10.828736623066586, 'КодФакультета': 8.738217985954343, 'СрБаллАттестата': 5.355742232357824, 'Код1': 15.06653175817173, 'Код2': 11.897693766033004, 'Код3': 6.06430355963682, 'Муж': 1.6963455053416714, 'Год_Рождения': 3.425357935511717, 'Возраст_Поступления': 3.221703143214866, 'Перерыв': 1.9364246044997169, 'ПолнаяСемья': 0.7460527684362187, 'Учеба': 5.405085066068086, 'МестоЖит': 3.319068665881889}\n"
     ]
    }
   ],
   "source": [
    "clf = train_default_catboost(X, y, X_test, 'results/catboost_default.csv')"
   ]
  }
 ],
 "metadata": {
  "kernelspec": {
   "display_name": "Python 3.9.12 ('base')",
   "language": "python",
   "name": "python3"
  },
  "language_info": {
   "codemirror_mode": {
    "name": "ipython",
    "version": 3
   },
   "file_extension": ".py",
   "mimetype": "text/x-python",
   "name": "python",
   "nbconvert_exporter": "python",
   "pygments_lexer": "ipython3",
   "version": "3.9.13"
  },
  "orig_nbformat": 4,
  "vscode": {
   "interpreter": {
    "hash": "b49028c007f0c7020170368ae8b8c9fa8f0535073a648df8bc1dae28c220931a"
   }
  }
 },
 "nbformat": 4,
 "nbformat_minor": 2
}
